{
  "nbformat": 4,
  "nbformat_minor": 0,
  "metadata": {
    "language_info": {
      "codemirror_mode": {
        "name": "ipython",
        "version": 3
      },
      "file_extension": ".py",
      "mimetype": "text/x-python",
      "name": "python",
      "nbconvert_exporter": "python",
      "pygments_lexer": "ipython3",
      "version": "3.8.5-final"
    },
    "orig_nbformat": 2,
    "kernelspec": {
      "name": "python3",
      "display_name": "Python 3",
      "language": "python"
    },
    "colab": {
      "name": "Thanet_multi_naive",
      "provenance": [],
      "collapsed_sections": []
    }
  },
  "cells": [
    {
      "cell_type": "code",
      "metadata": {
        "id": "HUk0EXe_qY6p"
      },
      "source": [
        "%matplotlib inline\n",
        "import matplotlib.pyplot as plt\n",
        "import seaborn as sns; sns.set()\n",
        "from sklearn.datasets import fetch_20newsgroups\n",
        "from sklearn.feature_extraction.text import TfidfVectorizer\n",
        "from sklearn.naive_bayes import MultinomialNB\n",
        "from sklearn.pipeline import make_pipeline\n",
        "from sklearn.model_selection import train_test_split\n",
        "from sklearn.metrics import confusion_matrix"
      ],
      "execution_count": null,
      "outputs": []
    },
    {
      "cell_type": "code",
      "metadata": {
        "id": "ZQa1jN92qY6v",
        "colab": {
          "base_uri": "https://localhost:8080/"
        },
        "outputId": "0a269c1e-ae86-4c25-adb2-d4029a8954ec"
      },
      "source": [
        "categories = ['comp.sys.mac.hardware', 'rec.autos', 'sci.electronics', 'talk.politics.guns']\n",
        "data = fetch_20newsgroups(categories=categories)\n",
        "xTrain, xTest, yTrain, yTest = train_test_split(data.data, data.target, test_size = 0.3)\n",
        "print(f'rawdata: {len(data.data)}')\n",
        "print(f'xTrain: {len(xTrain)} yTrain: {len(yTrain)}')\n",
        "print(f'xTest: {len(xTest)} yTrain: {len(yTest)}')\n",
        "data.target_names"
      ],
      "execution_count": null,
      "outputs": [
        {
          "output_type": "stream",
          "text": [
            "rawdata: 2309\n",
            "xTrain: 1616 yTrain: 1616\n",
            "xTest: 693 yTrain: 693\n"
          ],
          "name": "stdout"
        },
        {
          "output_type": "execute_result",
          "data": {
            "text/plain": [
              "['comp.sys.mac.hardware', 'rec.autos', 'sci.electronics', 'talk.politics.guns']"
            ]
          },
          "metadata": {
            "tags": []
          },
          "execution_count": 85
        }
      ]
    },
    {
      "cell_type": "code",
      "metadata": {
        "id": "I8ACIwM4qY6x"
      },
      "source": [
        "model = make_pipeline(TfidfVectorizer(), MultinomialNB())\n",
        "model.fit(xTrain, yTrain)\n",
        "labels = model.predict(xTest)"
      ],
      "execution_count": null,
      "outputs": []
    },
    {
      "cell_type": "code",
      "metadata": {
        "id": "vlavmgmxqY6x",
        "colab": {
          "base_uri": "https://localhost:8080/"
        },
        "outputId": "09530837-b06a-4dc5-9f8f-6ad9df194303"
      },
      "source": [
        "n = len(yTest)\n",
        "corrects = [ 1 for i in range(n) if yTest[i] == labels[i] ]\n",
        "print(f'corrects: {sum(corrects)} from {n}')\n",
        "print(f'accuracy: {round(sum(corrects)*100/n, 2)} %')"
      ],
      "execution_count": null,
      "outputs": [
        {
          "output_type": "stream",
          "text": [
            "corrects: 642 from 693\n",
            "accuracy: 92.64 %\n"
          ],
          "name": "stdout"
        }
      ]
    },
    {
      "cell_type": "code",
      "metadata": {
        "id": "PmVb66m0qY6x",
        "colab": {
          "base_uri": "https://localhost:8080/",
          "height": 409
        },
        "outputId": "d0a0e632-68a8-4942-e093-35c34d2091e3"
      },
      "source": [
        "mat = confusion_matrix(yTest, labels)\n",
        "sns.heatmap(mat.T, square=True, annot=True, fmt='d', cbar=False, cmap='Blues',\n",
        "            xticklabels=data.target_names, yticklabels=data.target_names)\n",
        "plt.xlabel('true label')\n",
        "plt.ylabel('predicted label');"
      ],
      "execution_count": null,
      "outputs": [
        {
          "output_type": "display_data",
          "data": {
            "image/png": "[encoded data removed]",
            "text/plain": [
              "<Figure size 432x288 with 1 Axes>"
            ]
          },
          "metadata": {
            "tags": []
          }
        }
      ]
    },
    {
      "cell_type": "code",
      "metadata": {
        "id": "Gv6qXvoMqY60"
      },
      "source": [
        "def predict_category(testStr, model=model):\n",
        "    pred = model.predict([testStr])[0]\n",
        "    return f'ตอบ {categories[pred]}'"
      ],
      "execution_count": null,
      "outputs": []
    },
    {
      "cell_type": "code",
      "metadata": {
        "id": "vXiSV5eFqY60",
        "colab": {
          "base_uri": "https://localhost:8080/",
          "height": 35
        },
        "outputId": "4d3ff70e-b56a-4209-f20e-30e4b151f6d8"
      },
      "source": [
        "predict_category('I go to Apple Store to buy my new Macbook')"
      ],
      "execution_count": null,
      "outputs": [
        {
          "output_type": "execute_result",
          "data": {
            "application/vnd.google.colaboratory.intrinsic+json": {
              "type": "string"
            },
            "text/plain": [
              "'ตอบ comp.sys.mac.hardware'"
            ]
          },
          "metadata": {
            "tags": []
          },
          "execution_count": 90
        }
      ]
    },
    {
      "cell_type": "code",
      "metadata": {
        "id": "oTl-aF_3qY61",
        "colab": {
          "base_uri": "https://localhost:8080/",
          "height": 35
        },
        "outputId": "f16db951-574f-4e8a-e51c-679d5213ec87"
      },
      "source": [
        "predict_category('My Brother, He has AK47 in his house?? Becareful')"
      ],
      "execution_count": null,
      "outputs": [
        {
          "output_type": "execute_result",
          "data": {
            "application/vnd.google.colaboratory.intrinsic+json": {
              "type": "string"
            },
            "text/plain": [
              "'ตอบ talk.politics.guns'"
            ]
          },
          "metadata": {
            "tags": []
          },
          "execution_count": 91
        }
      ]
    },
    {
      "cell_type": "code",
      "metadata": {
        "id": "Dhrsw743qY61",
        "colab": {
          "base_uri": "https://localhost:8080/",
          "height": 35
        },
        "outputId": "7fdc8132-f013-4f2c-e1f5-3f02284da2ef"
      },
      "source": [
        "predict_category('Can you switch the light on?')"
      ],
      "execution_count": null,
      "outputs": [
        {
          "output_type": "execute_result",
          "data": {
            "application/vnd.google.colaboratory.intrinsic+json": {
              "type": "string"
            },
            "text/plain": [
              "'ตอบ sci.electronics'"
            ]
          },
          "metadata": {
            "tags": []
          },
          "execution_count": 92
        }
      ]
    }
  ]
}